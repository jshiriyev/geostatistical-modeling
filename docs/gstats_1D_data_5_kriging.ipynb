{
 "cells": [
  {
   "cell_type": "code",
   "execution_count": 63,
   "metadata": {
    "executionInfo": {
     "elapsed": 2,
     "status": "ok",
     "timestamp": 1710175043806,
     "user": {
      "displayName": "Javid Shiriyev",
      "userId": "04377657040188470328"
     },
     "user_tz": -240
    },
    "id": "E9JF396CPSfh"
   },
   "outputs": [],
   "source": [
    "import numpy as np\n",
    "import matplotlib.pyplot as plt"
   ]
  },
  {
   "cell_type": "markdown",
   "metadata": {
    "id": "ZhDFZGt_WT1v"
   },
   "source": [
    "# Kriging Calculations for 3 Observation Points"
   ]
  },
  {
   "cell_type": "code",
   "execution_count": 2,
   "metadata": {
    "executionInfo": {
     "elapsed": 3,
     "status": "ok",
     "timestamp": 1710172802163,
     "user": {
      "displayName": "Javid Shiriyev",
      "userId": "04377657040188470328"
     },
     "user_tz": -240
    },
    "id": "V1sb6m-tPZNV"
   },
   "outputs": [],
   "source": [
    "dobs = np.array([2.,4.,6.])\n",
    "dest = np.array([3.,5.,8.])"
   ]
  },
  {
   "cell_type": "code",
   "execution_count": 64,
   "metadata": {
    "colab": {
     "base_uri": "https://localhost:8080/"
    },
    "executionInfo": {
     "elapsed": 5,
     "status": "ok",
     "timestamp": 1710175058116,
     "user": {
      "displayName": "Javid Shiriyev",
      "userId": "04377657040188470328"
     },
     "user_tz": -240
    },
    "id": "QEiF8d-JPsg1",
    "outputId": "3c885aa3-d5e1-448d-a9ff-51105aef7554"
   },
   "outputs": [
    {
     "data": {
      "text/plain": [
       "array([[0., 2., 4.],\n",
       "       [2., 0., 2.],\n",
       "       [4., 2., 0.]])"
      ]
     },
     "execution_count": 64,
     "metadata": {},
     "output_type": "execute_result"
    }
   ],
   "source": [
    "Dobs = np.abs(dobs-dobs.reshape((-1,1))); Dobs"
   ]
  },
  {
   "cell_type": "code",
   "execution_count": 65,
   "metadata": {
    "colab": {
     "base_uri": "https://localhost:8080/"
    },
    "executionInfo": {
     "elapsed": 406,
     "status": "ok",
     "timestamp": 1710175065901,
     "user": {
      "displayName": "Javid Shiriyev",
      "userId": "04377657040188470328"
     },
     "user_tz": -240
    },
    "id": "0P78EvQIPytN",
    "outputId": "98a6033e-ea9a-4115-8ecd-f6e463f01e40"
   },
   "outputs": [
    {
     "data": {
      "text/plain": [
       "array([[1., 3., 6.],\n",
       "       [1., 1., 4.],\n",
       "       [3., 1., 2.]])"
      ]
     },
     "execution_count": 65,
     "metadata": {},
     "output_type": "execute_result"
    }
   ],
   "source": [
    "Dest = np.abs(dest-dobs.reshape((-1,1))); Dest"
   ]
  },
  {
   "cell_type": "code",
   "execution_count": 11,
   "metadata": {
    "executionInfo": {
     "elapsed": 2,
     "status": "ok",
     "timestamp": 1710173004460,
     "user": {
      "displayName": "Javid Shiriyev",
      "userId": "04377657040188470328"
     },
     "user_tz": -240
    },
    "id": "0Abd0-qiQAI-"
   },
   "outputs": [],
   "source": [
    "C = lambda h: 100*np.exp(-0.3*h)"
   ]
  },
  {
   "cell_type": "code",
   "execution_count": 66,
   "metadata": {
    "colab": {
     "base_uri": "https://localhost:8080/"
    },
    "executionInfo": {
     "elapsed": 4,
     "status": "ok",
     "timestamp": 1710175081127,
     "user": {
      "displayName": "Javid Shiriyev",
      "userId": "04377657040188470328"
     },
     "user_tz": -240
    },
    "id": "QVpllRn8QRz3",
    "outputId": "ff77bc07-647a-45db-8df7-387f3dc47d85"
   },
   "outputs": [
    {
     "data": {
      "text/plain": [
       "array([[100.        ,  54.88116361,  30.11942119],\n",
       "       [ 54.88116361, 100.        ,  54.88116361],\n",
       "       [ 30.11942119,  54.88116361, 100.        ]])"
      ]
     },
     "execution_count": 66,
     "metadata": {},
     "output_type": "execute_result"
    }
   ],
   "source": [
    "Cobs = C(Dobs); Cobs"
   ]
  },
  {
   "cell_type": "code",
   "execution_count": 67,
   "metadata": {
    "colab": {
     "base_uri": "https://localhost:8080/"
    },
    "executionInfo": {
     "elapsed": 2,
     "status": "ok",
     "timestamp": 1710175089034,
     "user": {
      "displayName": "Javid Shiriyev",
      "userId": "04377657040188470328"
     },
     "user_tz": -240
    },
    "id": "Us8aEkxUQfXY",
    "outputId": "2e0c1ee2-041a-44be-f535-7c6b7f340ee8"
   },
   "outputs": [
    {
     "data": {
      "text/plain": [
       "array([[74.08182207, 40.65696597, 16.52988882],\n",
       "       [74.08182207, 74.08182207, 30.11942119],\n",
       "       [40.65696597, 74.08182207, 54.88116361]])"
      ]
     },
     "execution_count": 67,
     "metadata": {},
     "output_type": "execute_result"
    }
   ],
   "source": [
    "Cest = C(Dest); Cest"
   ]
  },
  {
   "cell_type": "code",
   "execution_count": 68,
   "metadata": {
    "colab": {
     "base_uri": "https://localhost:8080/"
    },
    "executionInfo": {
     "elapsed": 415,
     "status": "ok",
     "timestamp": 1710175096523,
     "user": {
      "displayName": "Javid Shiriyev",
      "userId": "04377657040188470328"
     },
     "user_tz": -240
    },
    "id": "IZB1MBBHQoGJ",
    "outputId": "fa9f238a-0110-410b-a243-28884c2fbe53"
   },
   "outputs": [
    {
     "data": {
      "text/plain": [
       "array([1., 1., 1., 0.])"
      ]
     },
     "execution_count": 68,
     "metadata": {},
     "output_type": "execute_result"
    }
   ],
   "source": [
    "unit = np.ones(4)\n",
    "unit[-1] = 0\n",
    "unit"
   ]
  },
  {
   "cell_type": "code",
   "execution_count": 69,
   "metadata": {
    "colab": {
     "base_uri": "https://localhost:8080/"
    },
    "executionInfo": {
     "elapsed": 5,
     "status": "ok",
     "timestamp": 1710175104984,
     "user": {
      "displayName": "Javid Shiriyev",
      "userId": "04377657040188470328"
     },
     "user_tz": -240
    },
    "id": "KutKW7dXR5cg",
    "outputId": "e5b80b6d-4d15-4580-8760-dbc0d5123104"
   },
   "outputs": [
    {
     "data": {
      "text/plain": [
       "array([[100.        ,  54.88116361,  30.11942119,   1.        ],\n",
       "       [ 54.88116361, 100.        ,  54.88116361,   1.        ],\n",
       "       [ 30.11942119,  54.88116361, 100.        ,   1.        ],\n",
       "       [  1.        ,   1.        ,   1.        ,   0.        ]])"
      ]
     },
     "execution_count": 69,
     "metadata": {},
     "output_type": "execute_result"
    }
   ],
   "source": [
    "LHS = np.concatenate((Cobs,unit[:-1].reshape((-1,1))),axis=1)\n",
    "LHS = np.concatenate((LHS,unit.reshape((1,-1))),axis=0); LHS"
   ]
  },
  {
   "cell_type": "code",
   "execution_count": 70,
   "metadata": {
    "colab": {
     "base_uri": "https://localhost:8080/"
    },
    "executionInfo": {
     "elapsed": 2,
     "status": "ok",
     "timestamp": 1710175111450,
     "user": {
      "displayName": "Javid Shiriyev",
      "userId": "04377657040188470328"
     },
     "user_tz": -240
    },
    "id": "jkVfzhkXSBgY",
    "outputId": "187543a7-06b3-49e7-855a-ae04490f85bb"
   },
   "outputs": [
    {
     "data": {
      "text/plain": [
       "array([[74.08182207, 40.65696597, 16.52988882],\n",
       "       [74.08182207, 74.08182207, 30.11942119],\n",
       "       [40.65696597, 74.08182207, 54.88116361],\n",
       "       [ 1.        ,  1.        ,  1.        ]])"
      ]
     },
     "execution_count": 70,
     "metadata": {},
     "output_type": "execute_result"
    }
   ],
   "source": [
    "RHS = np.concatenate((Cest,unit[:-1].reshape((1,-1))),axis=0); RHS"
   ]
  },
  {
   "cell_type": "code",
   "execution_count": 49,
   "metadata": {
    "colab": {
     "base_uri": "https://localhost:8080/"
    },
    "executionInfo": {
     "elapsed": 3,
     "status": "ok",
     "timestamp": 1710174532855,
     "user": {
      "displayName": "Javid Shiriyev",
      "userId": "04377657040188470328"
     },
     "user_tz": -240
    },
    "id": "_7Z8pWzpSMsQ",
    "outputId": "0f494f86-7e67-4e4b-a21b-16e197d1cd19"
   },
   "outputs": [
    {
     "data": {
      "text/plain": [
       "array([[ 4.96008266e-01,  1.76943105e-02,  1.84069234e-01],\n",
       "       [ 4.86297423e-01,  4.86297423e-01,  8.30498964e-02],\n",
       "       [ 1.76943105e-02,  4.96008266e-01,  7.32880870e-01],\n",
       "       [-2.74051541e+00, -2.74051541e+00, -2.85088571e+01]])"
      ]
     },
     "execution_count": 49,
     "metadata": {},
     "output_type": "execute_result"
    }
   ],
   "source": [
    "lamda = np.linalg.solve(LHS,RHS); lamda"
   ]
  },
  {
   "cell_type": "code",
   "execution_count": 41,
   "metadata": {
    "colab": {
     "base_uri": "https://localhost:8080/"
    },
    "executionInfo": {
     "elapsed": 6,
     "status": "ok",
     "timestamp": 1710174004277,
     "user": {
      "displayName": "Javid Shiriyev",
      "userId": "04377657040188470328"
     },
     "user_tz": -240
    },
    "id": "_RSBAS-8THvs",
    "outputId": "b5c75635-37b7-47ca-8f1c-2faa39dfda36"
   },
   "outputs": [
    {
     "data": {
      "text/plain": [
       "array([[30],\n",
       "       [50],\n",
       "       [20]])"
      ]
     },
     "execution_count": 41,
     "metadata": {},
     "output_type": "execute_result"
    }
   ],
   "source": [
    "yobs = np.array([30,50,20]).reshape((-1,1)); yobs"
   ]
  },
  {
   "cell_type": "code",
   "execution_count": 48,
   "metadata": {
    "colab": {
     "base_uri": "https://localhost:8080/"
    },
    "executionInfo": {
     "elapsed": 2,
     "status": "ok",
     "timestamp": 1710174492687,
     "user": {
      "displayName": "Javid Shiriyev",
      "userId": "04377657040188470328"
     },
     "user_tz": -240
    },
    "id": "AihS_-mEUEU_",
    "outputId": "6b69ea51-838d-4d17-f098-35756f7c8bb8"
   },
   "outputs": [
    {
     "data": {
      "text/plain": [
       "array([39.54900535, 34.76586579, 24.33218923])"
      ]
     },
     "execution_count": 48,
     "metadata": {},
     "output_type": "execute_result"
    }
   ],
   "source": [
    "yest = (yobs*lamda[:-1,:]).sum(axis=0); yest"
   ]
  },
  {
   "cell_type": "code",
   "execution_count": 51,
   "metadata": {
    "colab": {
     "base_uri": "https://localhost:8080/"
    },
    "executionInfo": {
     "elapsed": 457,
     "status": "ok",
     "timestamp": 1710174559268,
     "user": {
      "displayName": "Javid Shiriyev",
      "userId": "04377657040188470328"
     },
     "user_tz": -240
    },
    "id": "rJrTl8yZUMRX",
    "outputId": "5c1949a4-e063-440d-c4e6-3a92d95de83c"
   },
   "outputs": [
    {
     "data": {
      "text/plain": [
       "array([ -2.74051541,  -2.74051541, -28.50885711])"
      ]
     },
     "execution_count": 51,
     "metadata": {},
     "output_type": "execute_result"
    }
   ],
   "source": [
    "beta = lamda[-1,:]; beta"
   ]
  },
  {
   "cell_type": "code",
   "execution_count": 59,
   "metadata": {
    "colab": {
     "base_uri": "https://localhost:8080/"
    },
    "executionInfo": {
     "elapsed": 1,
     "status": "ok",
     "timestamp": 1710174956984,
     "user": {
      "displayName": "Javid Shiriyev",
      "userId": "04377657040188470328"
     },
     "user_tz": -240
    },
    "id": "dR3Y63-nWMJe",
    "outputId": "de16b017-1188-4385-e55d-5994a0b91a0d"
   },
   "outputs": [
    {
     "data": {
      "text/plain": [
       "array([29.25012312, 29.25012312, 82.7434434 ])"
      ]
     },
     "execution_count": 59,
     "metadata": {},
     "output_type": "execute_result"
    }
   ],
   "source": [
    "err_var = 100-beta-(Cest*lamda[:-1,:]).sum(axis=0); err_var"
   ]
  },
  {
   "cell_type": "code",
   "execution_count": 60,
   "metadata": {
    "colab": {
     "base_uri": "https://localhost:8080/"
    },
    "executionInfo": {
     "elapsed": 7,
     "status": "ok",
     "timestamp": 1710174972744,
     "user": {
      "displayName": "Javid Shiriyev",
      "userId": "04377657040188470328"
     },
     "user_tz": -240
    },
    "id": "mcqYr0L_WoqY",
    "outputId": "643d4f1f-d1cd-4352-95d6-459797801dd6"
   },
   "outputs": [
    {
     "data": {
      "text/plain": [
       "array([5.4083383 , 5.4083383 , 9.09634231])"
      ]
     },
     "execution_count": 60,
     "metadata": {},
     "output_type": "execute_result"
    }
   ],
   "source": [
    "err_std = np.sqrt(err_var); err_std"
   ]
  },
  {
   "cell_type": "code",
   "execution_count": 72,
   "metadata": {
    "colab": {
     "base_uri": "https://localhost:8080/"
    },
    "executionInfo": {
     "elapsed": 2,
     "status": "ok",
     "timestamp": 1710175176113,
     "user": {
      "displayName": "Javid Shiriyev",
      "userId": "04377657040188470328"
     },
     "user_tz": -240
    },
    "id": "AVdcdSoKXyZi",
    "outputId": "c1001cfc-9e06-41c2-d3d3-97215780b129"
   },
   "outputs": [
    {
     "data": {
      "text/plain": [
       "array([28.94866229, 24.16552273,  6.5033583 ])"
      ]
     },
     "execution_count": 72,
     "metadata": {},
     "output_type": "execute_result"
    }
   ],
   "source": [
    "yest_min = yest-err_std*1.96; yest_min"
   ]
  },
  {
   "cell_type": "code",
   "execution_count": 73,
   "metadata": {
    "colab": {
     "base_uri": "https://localhost:8080/"
    },
    "executionInfo": {
     "elapsed": 3,
     "status": "ok",
     "timestamp": 1710175182349,
     "user": {
      "displayName": "Javid Shiriyev",
      "userId": "04377657040188470328"
     },
     "user_tz": -240
    },
    "id": "_VJzR6e9X56B",
    "outputId": "ff53af0c-a34a-4dce-f671-63951649d9cb"
   },
   "outputs": [
    {
     "data": {
      "text/plain": [
       "array([50.14934841, 45.36620885, 42.16102016])"
      ]
     },
     "execution_count": 73,
     "metadata": {},
     "output_type": "execute_result"
    }
   ],
   "source": [
    "yest_max = yest+err_std*1.96; yest_max"
   ]
  },
  {
   "cell_type": "code",
   "execution_count": 80,
   "metadata": {
    "colab": {
     "base_uri": "https://localhost:8080/",
     "height": 435
    },
    "executionInfo": {
     "elapsed": 6,
     "status": "ok",
     "timestamp": 1710175420372,
     "user": {
      "displayName": "Javid Shiriyev",
      "userId": "04377657040188470328"
     },
     "user_tz": -240
    },
    "id": "EWx9mY0xX8Y5",
    "outputId": "81f7d8b4-16de-40f2-aa7b-7b1edac0a24f"
   },
   "outputs": [
    {
     "data": {
      "image/png": "[encoded data removed]",
      "text/plain": [
       "<Figure size 640x480 with 1 Axes>"
      ]
     },
     "metadata": {},
     "output_type": "display_data"
    }
   ],
   "source": [
    "plt.scatter(dobs,yobs,c='k')\n",
    "plt.scatter(dest,yest,c='r')\n",
    "for i in range(3):\n",
    "  plt.vlines(dest[i],yest_min[i],yest_max[i])\n",
    "plt.xlim((0,9))\n",
    "plt.ylim((0,60))\n",
    "plt.show()"
   ]
  },
  {
   "cell_type": "code",
   "execution_count": 87,
   "metadata": {
    "executionInfo": {
     "elapsed": 1,
     "status": "ok",
     "timestamp": 1710176390462,
     "user": {
      "displayName": "Javid Shiriyev",
      "userId": "04377657040188470328"
     },
     "user_tz": -240
    },
    "id": "0oJ2IuNiYu_5"
   },
   "outputs": [],
   "source": [
    "def kriging(dobs,yobs,dest,cov):\n",
    "  #Step 1: Distance Matrices\n",
    "  Dobs = np.abs(dobs-dobs.reshape((-1,1)))\n",
    "  Dest = np.abs(dest-dobs.reshape((-1,1)))\n",
    "  #Step 3: Covariance Matrices\n",
    "  Cobs = cov(Dobs)\n",
    "  Cest = cov(Dest)\n",
    "  #Step 4: Adding rows of 1\n",
    "  unit = np.ones(dobs.size+1)\n",
    "  unit[-1] = 0\n",
    "  LHS = np.concatenate((Cobs,np.ones(dobs.size).reshape((-1,1))),axis=1)\n",
    "  LHS = np.concatenate((LHS,unit.reshape((1,-1))),axis=0)\n",
    "  RHS = np.concatenate((Cest,np.ones(dest.size).reshape((1,-1))),axis=0)\n",
    "  #Step 5: Solving for lambdas\n",
    "  lamda = np.linalg.solve(LHS,RHS)\n",
    "  #Step 6: Calculation of estimated values\n",
    "  yest = (yobs*lamda[:-1,:]).sum(axis=0)\n",
    "  #Step 7: Calculation of error\n",
    "  err_var = 100-lamda[-1,:]-(Cest*lamda[:-1,:]).sum(axis=0)\n",
    "  err_std = np.sqrt(err_var)\n",
    "  yest_min = yest-err_std*1.96\n",
    "  yest_max = yest+err_std*1.96\n",
    "  return yest, yest_min, yest_max"
   ]
  },
  {
   "cell_type": "code",
   "execution_count": 102,
   "metadata": {
    "executionInfo": {
     "elapsed": 5,
     "status": "ok",
     "timestamp": 1710176512611,
     "user": {
      "displayName": "Javid Shiriyev",
      "userId": "04377657040188470328"
     },
     "user_tz": -240
    },
    "id": "cArbRth2anQU"
   },
   "outputs": [],
   "source": [
    "dest_new = np.linspace(0,9,1001)"
   ]
  },
  {
   "cell_type": "code",
   "execution_count": 103,
   "metadata": {
    "executionInfo": {
     "elapsed": 4,
     "status": "ok",
     "timestamp": 1710176514427,
     "user": {
      "displayName": "Javid Shiriyev",
      "userId": "04377657040188470328"
     },
     "user_tz": -240
    },
    "id": "B5WXdEFocdPS"
   },
   "outputs": [],
   "source": [
    "ye,yemin,yemax = kriging(dobs,yobs,dest_new,C)"
   ]
  },
  {
   "cell_type": "code",
   "execution_count": 104,
   "metadata": {
    "colab": {
     "base_uri": "https://localhost:8080/",
     "height": 435
    },
    "executionInfo": {
     "elapsed": 3,
     "status": "ok",
     "timestamp": 1710176516349,
     "user": {
      "displayName": "Javid Shiriyev",
      "userId": "04377657040188470328"
     },
     "user_tz": -240
    },
    "id": "c1077tiRc0Wh",
    "outputId": "9f2efa6c-2597-4b03-e896-de965cd2241f"
   },
   "outputs": [
    {
     "data": {
      "image/png": "[encoded data removed]",
      "text/plain": [
       "<Figure size 640x480 with 1 Axes>"
      ]
     },
     "metadata": {},
     "output_type": "display_data"
    }
   ],
   "source": [
    "plt.scatter(dobs,yobs,c='k')\n",
    "plt.scatter(dest,yest,c='r')\n",
    "for i in range(3):\n",
    "  plt.vlines(dest[i],yest_min[i],yest_max[i])\n",
    "plt.plot(dest_new,ye,'b')\n",
    "plt.plot(dest_new,yemin,'gray')\n",
    "plt.plot(dest_new,yemax,'gray')\n",
    "plt.xlim((0,9))\n",
    "plt.ylim((0,60))\n",
    "plt.show()"
   ]
  },
  {
   "cell_type": "code",
   "execution_count": null,
   "metadata": {
    "id": "ph6tYtTUdXlB"
   },
   "outputs": [],
   "source": [
    "\n",
    "."
   ]
  }
 ],
 "metadata": {
  "colab": {
   "authorship_tag": "ABX9TyMhzTpPl0zuYDxLqi1D2j0S",
   "provenance": []
  },
  "kernelspec": {
   "display_name": "Python 3 (ipykernel)",
   "language": "python",
   "name": "python3"
  },
  "language_info": {
   "codemirror_mode": {
    "name": "ipython",
    "version": 3
   },
   "file_extension": ".py",
   "mimetype": "text/x-python",
   "name": "python",
   "nbconvert_exporter": "python",
   "pygments_lexer": "ipython3",
   "version": "3.10.9"
  }
 },
 "nbformat": 4,
 "nbformat_minor": 4
}
